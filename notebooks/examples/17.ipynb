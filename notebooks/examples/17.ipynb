{
 "cells": [
  {
   "cell_type": "code",
   "execution_count": null,
   "metadata": {},
   "outputs": [
    {
     "name": "stdout",
     "output_type": "stream",
     "text": [
      "INFO: Found cached file ./mastDownload/JWST/jw01717001001_02101_00001_mirimage/jw01717001001_gs-fg_2023161064737_cal.fits with expected size 10710720. [astroquery.query]\n",
      "INFO: Found cached file ./mastDownload/JWST/jw01717001001_02101_00001_mirimage/jw01717001001_gs-fg_2023161065356_cal.fits with expected size 6186240. [astroquery.query]\n",
      "INFO: Found cached file ./mastDownload/JWST/jw01717001001_02101_00001_mirimage/jw01717001001_gs-fg_2023161070006_cal.fits with expected size 6416640. [astroquery.query]\n",
      "INFO: Found cached file ./mastDownload/JWST/jw01717001001_02101_00001_mirimage/jw01717001001_gs-fg_2023161070655_cal.fits with expected size 6811200. [astroquery.query]\n",
      "INFO: Found cached file ./mastDownload/JWST/jw01717001001_02101_00001_mirimage/jw01717001001_gs-fg_2023161071914_cal.fits with expected size 13262400. [astroquery.query]\n",
      "INFO: Found cached file ./mastDownload/JWST/jw01717001001_02101_00001_mirimage/jw01717001001_gs-fg_2023161072532_cal.fits with expected size 6186240. [astroquery.query]\n",
      "INFO: Found cached file ./mastDownload/JWST/jw01717001001_02101_00001_mirimage/jw01717001001_gs-fg_2023161073151_cal.fits with expected size 6200640. [astroquery.query]\n",
      "INFO: Found cached file ./mastDownload/JWST/jw01717001001_02101_00001_mirimage/jw01717001001_gs-fg_2023161073836_cal.fits with expected size 7081920. [astroquery.query]\n",
      "INFO: Found cached file ./mastDownload/JWST/jw01717001001_02101_00001_mirimage/jw01717001001_gs-fg_2023161075029_cal.fits with expected size 12778560. [astroquery.query]\n",
      "INFO: Found cached file ./mastDownload/JWST/jw01717001001_02101_00001_mirimage/jw01717001001_gs-fg_2023161075645_cal.fits with expected size 6163200. [astroquery.query]\n",
      "INFO: Found cached file ./mastDownload/JWST/jw01717001001_02101_00001_mirimage/jw01717001001_gs-fg_2023161080303_cal.fits with expected size 5909760. [astroquery.query]\n",
      "INFO: Found cached file ./mastDownload/JWST/jw01717001001_02101_00001_mirimage/jw01717001001_gs-fg_2023161080937_cal.fits with expected size 6857280. [astroquery.query]\n",
      "INFO: Found cached file ./mastDownload/JWST/jw01717002001_02101_00001_mirimage/jw01717002001_gs-fg_2023161082824_cal.fits with expected size 11335680. [astroquery.query]\n",
      "INFO: Found cached file ./mastDownload/JWST/jw01717002001_02101_00001_mirimage/jw01717002001_gs-fg_2023161083501_cal.fits with expected size 6917760. [astroquery.query]\n",
      "INFO: Found cached file ./mastDownload/JWST/jw01717002001_02101_00001_mirimage/jw01717002001_gs-fg_2023161084039_cal.fits with expected size 5610240. [astroquery.query]\n",
      "INFO: Found cached file ./mastDownload/JWST/jw01717003001_02101_00001_mirimage/jw01717003001_gs-fg_2023082234149_cal.fits with expected size 16050240. [astroquery.query]\n",
      "INFO: Found cached file ./mastDownload/JWST/jw01717003001_02101_00001_mirimage/jw01717003001_gs-fg_2023082235337_cal.fits with expected size 10846080. [astroquery.query]\n",
      "INFO: Found cached file ./mastDownload/JWST/jw01717003001_02101_00001_mirimage/jw01717003001_gs-fg_2023083000523_cal.fits with expected size 10840320. [astroquery.query]\n",
      "INFO: Found cached file ./mastDownload/JWST/jw01717003001_02101_00001_mirimage/jw01717003001_gs-fg_2023083001722_cal.fits with expected size 10889280. [astroquery.query]\n",
      "INFO: Found cached file ./mastDownload/JWST/jw01717003001_02101_00001_mirimage/jw01717003001_gs-fg_2023083003505_cal.fits with expected size 16536960. [astroquery.query]\n",
      "INFO: Found cached file ./mastDownload/JWST/jw01717003001_02101_00001_mirimage/jw01717003001_gs-fg_2023083004649_cal.fits with expected size 10834560. [astroquery.query]\n",
      "INFO: Found cached file ./mastDownload/JWST/jw01717003001_02101_00001_mirimage/jw01717003001_gs-fg_2023083005835_cal.fits with expected size 10834560. [astroquery.query]\n",
      "INFO: Found cached file ./mastDownload/JWST/jw01717003001_02101_00001_mirimage/jw01717003001_gs-fg_2023083011037_cal.fits with expected size 10900800. [astroquery.query]\n",
      "INFO: Found cached file ./mastDownload/JWST/jw01717003001_02101_00001_mirimage/jw01717003001_gs-fg_2023083012556_cal.fits with expected size 14019840. [astroquery.query]\n",
      "INFO: Found cached file ./mastDownload/JWST/jw01717003001_02101_00001_mirimage/jw01717003001_gs-fg_2023083013717_cal.fits with expected size 10353600. [astroquery.query]\n",
      "INFO: Found cached file ./mastDownload/JWST/jw01717003001_02101_00001_mirimage/jw01717003001_gs-fg_2023083014834_cal.fits with expected size 10333440. [astroquery.query]\n",
      "INFO: Found cached file ./mastDownload/JWST/jw01717003001_02101_00001_mirimage/jw01717003001_gs-fg_2023083020006_cal.fits with expected size 10396800. [astroquery.query]\n",
      "INFO: Found cached file ./mastDownload/JWST/jw01717004001_02101_00001_mirimage/jw01717004001_gs-fg_2023083022919_cal.fits with expected size 16093440. [astroquery.query]\n",
      "INFO: Found cached file ./mastDownload/JWST/jw01717004001_02101_00001_mirimage/jw01717004001_gs-fg_2023083024121_cal.fits with expected size 10897920. [astroquery.query]\n",
      "INFO: Found cached file ./mastDownload/JWST/jw01717004001_02101_00001_mirimage/jw01717004001_gs-fg_2023083025842_cal.fits with expected size 16053120. [astroquery.query]\n",
      "INFO: Found cached file ./mastDownload/JWST/jw01717004001_02101_00001_mirimage/jw01717004001_gs-fg_2023083031041_cal.fits with expected size 10889280. [astroquery.query]\n",
      "INFO: Found cached file ./mastDownload/JWST/jw01717004001_02101_00001_mirimage/jw01717004001_gs-fg_2023083032559_cal.fits with expected size 14016960. [astroquery.query]\n",
      "INFO: Found cached file ./mastDownload/JWST/jw01717004001_02101_00001_mirimage/jw01717004001_gs-fg_2023083033736_cal.fits with expected size 10414080. [astroquery.query]\n",
      "INFO: Found cached file ./mastDownload/JWST/jw01717005001_02101_00001_mirimage/jw01717005001_gs-fg_2023096174231_cal.fits with expected size 10961280. [astroquery.query]\n",
      "INFO: Found cached file ./mastDownload/JWST/jw01717005001_02101_00001_mirimage/jw01717005001_gs-fg_2023096174847_cal.fits with expected size 5250240. [astroquery.query]\n",
      "INFO: Found cached file ./mastDownload/JWST/jw01717005001_02101_00001_mirimage/jw01717005001_gs-fg_2023096175502_cal.fits with expected size 5123520. [astroquery.query]\n",
      "INFO: Found cached file ./mastDownload/JWST/jw01717005001_02101_00001_mirimage/jw01717005001_gs-fg_2023096180146_cal.fits with expected size 5745600. [astroquery.query]\n",
      "INFO: Found cached file ./mastDownload/JWST/jw01717005001_02101_00001_mirimage/jw01717005001_gs-fg_2023096181342_cal.fits with expected size 13052160. [astroquery.query]\n",
      "INFO: Found cached file ./mastDownload/JWST/jw01717005001_02101_00001_mirimage/jw01717005001_gs-fg_2023096181954_cal.fits with expected size 6482880. [astroquery.query]\n",
      "INFO: Found cached file ./mastDownload/JWST/jw01717005001_02101_00001_mirimage/jw01717005001_gs-fg_2023096182610_cal.fits with expected size 6249600. [astroquery.query]\n",
      "INFO: Found cached file ./mastDownload/JWST/jw01717005001_02101_00001_mirimage/jw01717005001_gs-fg_2023096183256_cal.fits with expected size 7125120. [astroquery.query]\n",
      "INFO: Found cached file ./mastDownload/JWST/jw01717005001_02101_00001_mirimage/jw01717005001_gs-fg_2023096184331_cal.fits with expected size 9388800. [astroquery.query]\n",
      "INFO: Found cached file ./mastDownload/JWST/jw01717005001_02101_00001_mirimage/jw01717005001_gs-fg_2023096184950_cal.fits with expected size 5650560. [astroquery.query]\n",
      "INFO: Found cached file ./mastDownload/JWST/jw01717005001_02101_00001_mirimage/jw01717005001_gs-fg_2023096185609_cal.fits with expected size 5650560. [astroquery.query]\n",
      "INFO: Found cached file ./mastDownload/JWST/jw01717005001_02101_00001_mirimage/jw01717005001_gs-fg_2023096190240_cal.fits with expected size 5299200. [astroquery.query]\n",
      "INFO: Found cached file ./mastDownload/JWST/jw01717006001_02101_00001_mirimage/jw01717006001_gs-fg_2023096192132_cal.fits with expected size 9316800. [astroquery.query]\n",
      "INFO: Found cached file ./mastDownload/JWST/jw01717006001_02101_00001_mirimage/jw01717006001_gs-fg_2023096192800_cal.fits with expected size 5688000. [astroquery.query]\n",
      "INFO: Found cached file ./mastDownload/JWST/jw01717006001_02101_00001_mirimage/jw01717006001_gs-fg_2023096193801_cal.fits with expected size 8864640. [astroquery.query]\n",
      "INFO: Found cached file ./mastDownload/JWST/jw01717006001_02101_00001_mirimage/jw01717006001_gs-fg_2023096194433_cal.fits with expected size 5699520. [astroquery.query]\n",
      "INFO: Found cached file ./mastDownload/JWST/jw01717006001_02101_00001_mirimage/jw01717006001_gs-fg_2023096195452_cal.fits with expected size 9328320. [astroquery.query]\n",
      "INFO: Found cached file ./mastDownload/JWST/jw01717006001_02101_00001_mirimage/jw01717006001_gs-fg_2023096200119_cal.fits with expected size 5685120. [astroquery.query]\n"
     ]
    }
   ],
   "source": [
    "import sys\n",
    "sys.path.append('/Users/ddeal/JWST-Treasure-Chest-2023/JWST-FGS-Spelunker-Repos/JWST-FGS-Spelunker/')\n",
    "import Spelunker\n",
    "\n",
    "spk = Spelunker.load('/Users/ddeal/JWST-Treasure-Chest-2023/', pid=1717)"
   ]
  },
  {
   "cell_type": "code",
   "execution_count": null,
   "metadata": {},
   "outputs": [
    {
     "data": {
      "text/html": [
       "<div>\n",
       "<style scoped>\n",
       "    .dataframe tbody tr th:only-of-type {\n",
       "        vertical-align: middle;\n",
       "    }\n",
       "\n",
       "    .dataframe tbody tr th {\n",
       "        vertical-align: top;\n",
       "    }\n",
       "\n",
       "    .dataframe thead th {\n",
       "        text-align: right;\n",
       "    }\n",
       "</style>\n",
       "<table border=\"1\" class=\"dataframe\">\n",
       "  <thead>\n",
       "    <tr style=\"text-align: right;\">\n",
       "      <th></th>\n",
       "      <th>guidestar_catalog_id</th>\n",
       "      <th>gaiadr1ID</th>\n",
       "      <th>gaiadr1ID</th>\n",
       "      <th>int_start</th>\n",
       "      <th>int_stop</th>\n",
       "      <th>ra</th>\n",
       "      <th>dec</th>\n",
       "      <th>Jmag</th>\n",
       "      <th>Hmag</th>\n",
       "    </tr>\n",
       "  </thead>\n",
       "  <tbody>\n",
       "    <tr>\n",
       "      <th>0</th>\n",
       "      <td>N5UO005087</td>\n",
       "      <td>1266328466790577024</td>\n",
       "      <td>1266328471086582912</td>\n",
       "      <td>60026.975875</td>\n",
       "      <td>60026.987377</td>\n",
       "      <td>224.258882</td>\n",
       "      <td>24.845002</td>\n",
       "      <td>13.279000</td>\n",
       "      <td>12.604</td>\n",
       "    </tr>\n",
       "    <tr>\n",
       "      <th>1</th>\n",
       "      <td>N5UO000077</td>\n",
       "      <td>1266322900512675072</td>\n",
       "      <td>1266322904808943744</td>\n",
       "      <td>60027.092070</td>\n",
       "      <td>60027.103703</td>\n",
       "      <td>224.297235</td>\n",
       "      <td>24.770627</td>\n",
       "      <td>13.875000</td>\n",
       "      <td>13.432</td>\n",
       "    </tr>\n",
       "    <tr>\n",
       "      <th>2</th>\n",
       "      <td>N7Q3009425</td>\n",
       "      <td>1062941561799168768</td>\n",
       "      <td>1062941566094565120</td>\n",
       "      <td>60040.729845</td>\n",
       "      <td>60040.737863</td>\n",
       "      <td>143.571674</td>\n",
       "      <td>61.253415</td>\n",
       "      <td>14.046000</td>\n",
       "      <td>13.632</td>\n",
       "    </tr>\n",
       "    <tr>\n",
       "      <th>3</th>\n",
       "      <td>N48A003062</td>\n",
       "      <td>1562417327423693696</td>\n",
       "      <td>1562417331719950464</td>\n",
       "      <td>60105.276788</td>\n",
       "      <td>60105.283076</td>\n",
       "      <td>205.804121</td>\n",
       "      <td>55.822747</td>\n",
       "      <td>15.178000</td>\n",
       "      <td>14.824</td>\n",
       "    </tr>\n",
       "    <tr>\n",
       "      <th>4</th>\n",
       "      <td>N48A002875</td>\n",
       "      <td>1562417052545780352</td>\n",
       "      <td>1562417052545780352</td>\n",
       "      <td>60105.346406</td>\n",
       "      <td>60105.353061</td>\n",
       "      <td>205.844977</td>\n",
       "      <td>55.806205</td>\n",
       "      <td>17.226999</td>\n",
       "      <td>16.104</td>\n",
       "    </tr>\n",
       "  </tbody>\n",
       "</table>\n",
       "</div>"
      ],
      "text/plain": [
       "  guidestar_catalog_id            gaiadr1ID            gaiadr1ID   \n",
       "0           N5UO005087  1266328466790577024  1266328471086582912  \\\n",
       "1           N5UO000077  1266322900512675072  1266322904808943744   \n",
       "2           N7Q3009425  1062941561799168768  1062941566094565120   \n",
       "3           N48A003062  1562417327423693696  1562417331719950464   \n",
       "4           N48A002875  1562417052545780352  1562417052545780352   \n",
       "\n",
       "      int_start      int_stop          ra        dec       Jmag    Hmag  \n",
       "0  60026.975875  60026.987377  224.258882  24.845002  13.279000  12.604  \n",
       "1  60027.092070  60027.103703  224.297235  24.770627  13.875000  13.432  \n",
       "2  60040.729845  60040.737863  143.571674  61.253415  14.046000  13.632  \n",
       "3  60105.276788  60105.283076  205.804121  55.822747  15.178000  14.824  \n",
       "4  60105.346406  60105.353061  205.844977  55.806205  17.226999  16.104  "
      ]
     },
     "execution_count": 3,
     "metadata": {},
     "output_type": "execute_result"
    }
   ],
   "source": [
    "len(spk.object_properties)"
   ]
  },
  {
   "cell_type": "code",
   "execution_count": 4,
   "metadata": {},
   "outputs": [
    {
     "data": {
      "text/plain": [
       "[<matplotlib.lines.Line2D at 0x1a1b9af20>]"
      ]
     },
     "execution_count": 4,
     "metadata": {},
     "output_type": "execute_result"
    },
    {
     "data": {
      "image/png": "[encoded data removed]",
      "text/plain": [
       "<Figure size 640x480 with 1 Axes>"
      ]
     },
     "metadata": {},
     "output_type": "display_data"
    }
   ],
   "source": [
    "import matplotlib.pyplot as plt\n",
    "plt.plot(spk.fg_flux)"
   ]
  },
  {
   "cell_type": "code",
   "execution_count": 6,
   "metadata": {},
   "outputs": [
    {
     "name": "stderr",
     "output_type": "stream",
     "text": [
      "2023-07-18 09:31:43,108\tINFO worker.py:1636 -- Started a local Ray instance.\n",
      "\u001b[2m\u001b[36m(ray_curve_fit pid=59032)\u001b[0m /Users/ddeal/miniconda/envs/stenv/lib/python3.10/site-packages/scipy/optimize/_minpack_py.py:881: OptimizeWarning: Covariance of the parameters could not be estimated\n",
      "\u001b[2m\u001b[36m(ray_curve_fit pid=59032)\u001b[0m   warnings.warn('Covariance of the parameters could not be estimated',\n"
     ]
    },
    {
     "name": "stdout",
     "output_type": "stream",
     "text": [
      "A runtime error has occured with fitting. Logging nan.\n",
      "A runtime error has occured with fitting. Logging nan.\n",
      "A runtime error has occured with fitting. Logging nan.\n",
      "A runtime error has occured with fitting. Logging nan.\n",
      "A runtime error has occured with fitting. Logging nan.\n",
      "A runtime error has occured with fitting. Logging nan.\n",
      "A runtime error has occured with fitting. Logging nan.\n",
      "A runtime error has occured with fitting. Logging nan.\n",
      "A runtime error has occured with fitting. Logging nan.\n",
      "A runtime error has occured with fitting. Logging nan.\n",
      "A runtime error has occured with fitting. Logging nan.\n",
      "A runtime error has occured with fitting. Logging nan.\n",
      "A runtime error has occured with fitting. Logging nan.\n",
      "A runtime error has occured with fitting. Logging nan.\n",
      "A runtime error has occured with fitting. Logging nan.\n",
      "A runtime error has occured with fitting. Logging nan.\n",
      "A runtime error has occured with fitting. Logging nan.\n",
      "A runtime error has occured with fitting. Logging nan.\n",
      "A runtime error has occured with fitting. Logging nan.\n",
      "A runtime error has occured with fitting. Logging nan.\n",
      "A runtime error has occured with fitting. Logging nan.\n",
      "A runtime error has occured with fitting. Logging nan.\n",
      "A runtime error has occured with fitting. Logging nan.\n",
      "A runtime error has occured with fitting. Logging nan.\n",
      "A runtime error has occured with fitting. Logging nan.\n",
      "A runtime error has occured with fitting. Logging nan.\n",
      "A runtime error has occured with fitting. Logging nan.\n",
      "A runtime error has occured with fitting. Logging nan.\n",
      "A runtime error has occured with fitting. Logging nan.\n",
      "A runtime error has occured with fitting. Logging nan.\n",
      "A runtime error has occured with fitting. Logging nan.\n",
      "A runtime error has occured with fitting. Logging nan.\n",
      "A runtime error has occured with fitting. Logging nan.\n",
      "A runtime error has occured with fitting. Logging nan.\n",
      "A runtime error has occured with fitting. Logging nan.\n",
      "A runtime error has occured with fitting. Logging nan.\n",
      "A runtime error has occured with fitting. Logging nan.\n",
      "A runtime error has occured with fitting. Logging nan.\n",
      "A runtime error has occured with fitting. Logging nan.\n",
      "A runtime error has occured with fitting. Logging nan.\n",
      "A runtime error has occured with fitting. Logging nan.\n",
      "A runtime error has occured with fitting. Logging nan.\n",
      "A runtime error has occured with fitting. Logging nan.\n",
      "A runtime error has occured with fitting. Logging nan.\n",
      "A runtime error has occured with fitting. Logging nan.\n",
      "A runtime error has occured with fitting. Logging nan.\n",
      "A runtime error has occured with fitting. Logging nan.\n",
      "A runtime error has occured with fitting. Logging nan.\n",
      "A runtime error has occured with fitting. Logging nan.\n"
     ]
    },
    {
     "ename": "KeyboardInterrupt",
     "evalue": "",
     "output_type": "error",
     "traceback": [
      "\u001b[0;31m---------------------------------------------------------------------------\u001b[0m",
      "\u001b[0;31mKeyboardInterrupt\u001b[0m                         Traceback (most recent call last)",
      "Cell \u001b[0;32mIn[6], line 1\u001b[0m\n\u001b[0;32m----> 1\u001b[0m spk\u001b[39m.\u001b[39;49mgauss2d_fit(spk\u001b[39m.\u001b[39;49mfg_array,ncpus\u001b[39m=\u001b[39;49m\u001b[39m6\u001b[39;49m)\n",
      "File \u001b[0;32m~/JWST-Treasure-Chest-2023/JWST-FGS-Spelunker-Repos/JWST-FGS-Spelunker/Spelunker.py:580\u001b[0m, in \u001b[0;36mgauss2d_fit\u001b[0;34m(self, fg_array, ncpus)\u001b[0m\n\u001b[1;32m    578\u001b[0m rows5 \u001b[39m=\u001b[39m []\n\u001b[1;32m    579\u001b[0m \u001b[39mfor\u001b[39;00m i \u001b[39min\u001b[39;00m rows5_obj:\n\u001b[0;32m--> 580\u001b[0m     \u001b[39mtry\u001b[39;00m:\n\u001b[1;32m    581\u001b[0m         popt3 \u001b[39m=\u001b[39m ray\u001b[39m.\u001b[39mget(i)\n\u001b[1;32m    582\u001b[0m         rows5\u001b[39m.\u001b[39mappend([popt3[\u001b[39m0\u001b[39m], popt3[\u001b[39m1\u001b[39m],popt3[\u001b[39m2\u001b[39m],popt3[\u001b[39m3\u001b[39m],popt3[\u001b[39m4\u001b[39m],popt3[\u001b[39m5\u001b[39m],popt3[\u001b[39m6\u001b[39m]])\n",
      "File \u001b[0;32m~/miniconda/envs/stenv/lib/python3.10/site-packages/ray/_private/auto_init_hook.py:18\u001b[0m, in \u001b[0;36mwrap_auto_init.<locals>.auto_init_wrapper\u001b[0;34m(*args, **kwargs)\u001b[0m\n\u001b[1;32m     15\u001b[0m \u001b[39m@wraps\u001b[39m(fn)\n\u001b[1;32m     16\u001b[0m \u001b[39mdef\u001b[39;00m \u001b[39mauto_init_wrapper\u001b[39m(\u001b[39m*\u001b[39margs, \u001b[39m*\u001b[39m\u001b[39m*\u001b[39mkwargs):\n\u001b[1;32m     17\u001b[0m     auto_init_ray()\n\u001b[0;32m---> 18\u001b[0m     \u001b[39mreturn\u001b[39;00m fn(\u001b[39m*\u001b[39;49margs, \u001b[39m*\u001b[39;49m\u001b[39m*\u001b[39;49mkwargs)\n",
      "File \u001b[0;32m~/miniconda/envs/stenv/lib/python3.10/site-packages/ray/_private/client_mode_hook.py:103\u001b[0m, in \u001b[0;36mclient_mode_hook.<locals>.wrapper\u001b[0;34m(*args, **kwargs)\u001b[0m\n\u001b[1;32m    101\u001b[0m     \u001b[39mif\u001b[39;00m func\u001b[39m.\u001b[39m\u001b[39m__name__\u001b[39m \u001b[39m!=\u001b[39m \u001b[39m\"\u001b[39m\u001b[39minit\u001b[39m\u001b[39m\"\u001b[39m \u001b[39mor\u001b[39;00m is_client_mode_enabled_by_default:\n\u001b[1;32m    102\u001b[0m         \u001b[39mreturn\u001b[39;00m \u001b[39mgetattr\u001b[39m(ray, func\u001b[39m.\u001b[39m\u001b[39m__name__\u001b[39m)(\u001b[39m*\u001b[39margs, \u001b[39m*\u001b[39m\u001b[39m*\u001b[39mkwargs)\n\u001b[0;32m--> 103\u001b[0m \u001b[39mreturn\u001b[39;00m func(\u001b[39m*\u001b[39;49margs, \u001b[39m*\u001b[39;49m\u001b[39m*\u001b[39;49mkwargs)\n",
      "File \u001b[0;32m~/miniconda/envs/stenv/lib/python3.10/site-packages/ray/_private/worker.py:2534\u001b[0m, in \u001b[0;36mget\u001b[0;34m(object_refs, timeout)\u001b[0m\n\u001b[1;32m   2529\u001b[0m     \u001b[39mraise\u001b[39;00m \u001b[39mValueError\u001b[39;00m(\n\u001b[1;32m   2530\u001b[0m         \u001b[39m\"\u001b[39m\u001b[39m'\u001b[39m\u001b[39mobject_refs\u001b[39m\u001b[39m'\u001b[39m\u001b[39m must either be an ObjectRef or a list of ObjectRefs.\u001b[39m\u001b[39m\"\u001b[39m\n\u001b[1;32m   2531\u001b[0m     )\n\u001b[1;32m   2533\u001b[0m \u001b[39m# TODO(ujvl): Consider how to allow user to retrieve the ready objects.\u001b[39;00m\n\u001b[0;32m-> 2534\u001b[0m values, debugger_breakpoint \u001b[39m=\u001b[39m worker\u001b[39m.\u001b[39;49mget_objects(object_refs, timeout\u001b[39m=\u001b[39;49mtimeout)\n\u001b[1;32m   2535\u001b[0m \u001b[39mfor\u001b[39;00m i, value \u001b[39min\u001b[39;00m \u001b[39menumerate\u001b[39m(values):\n\u001b[1;32m   2536\u001b[0m     \u001b[39mif\u001b[39;00m \u001b[39misinstance\u001b[39m(value, RayError):\n",
      "File \u001b[0;32m~/miniconda/envs/stenv/lib/python3.10/site-packages/ray/_private/worker.py:759\u001b[0m, in \u001b[0;36mWorker.get_objects\u001b[0;34m(self, object_refs, timeout)\u001b[0m\n\u001b[1;32m    753\u001b[0m         \u001b[39mraise\u001b[39;00m \u001b[39mTypeError\u001b[39;00m(\n\u001b[1;32m    754\u001b[0m             \u001b[39mf\u001b[39m\u001b[39m\"\u001b[39m\u001b[39mAttempting to call `get` on the value \u001b[39m\u001b[39m{\u001b[39;00mobject_ref\u001b[39m}\u001b[39;00m\u001b[39m, \u001b[39m\u001b[39m\"\u001b[39m\n\u001b[1;32m    755\u001b[0m             \u001b[39m\"\u001b[39m\u001b[39mwhich is not an ray.ObjectRef.\u001b[39m\u001b[39m\"\u001b[39m\n\u001b[1;32m    756\u001b[0m         )\n\u001b[1;32m    758\u001b[0m timeout_ms \u001b[39m=\u001b[39m \u001b[39mint\u001b[39m(timeout \u001b[39m*\u001b[39m \u001b[39m1000\u001b[39m) \u001b[39mif\u001b[39;00m timeout \u001b[39mis\u001b[39;00m \u001b[39mnot\u001b[39;00m \u001b[39mNone\u001b[39;00m \u001b[39melse\u001b[39;00m \u001b[39m-\u001b[39m\u001b[39m1\u001b[39m\n\u001b[0;32m--> 759\u001b[0m data_metadata_pairs \u001b[39m=\u001b[39m \u001b[39mself\u001b[39;49m\u001b[39m.\u001b[39;49mcore_worker\u001b[39m.\u001b[39;49mget_objects(\n\u001b[1;32m    760\u001b[0m     object_refs, \u001b[39mself\u001b[39;49m\u001b[39m.\u001b[39;49mcurrent_task_id, timeout_ms\n\u001b[1;32m    761\u001b[0m )\n\u001b[1;32m    762\u001b[0m debugger_breakpoint \u001b[39m=\u001b[39m \u001b[39mb\u001b[39m\u001b[39m\"\u001b[39m\u001b[39m\"\u001b[39m\n\u001b[1;32m    763\u001b[0m \u001b[39mfor\u001b[39;00m data, metadata \u001b[39min\u001b[39;00m data_metadata_pairs:\n",
      "File \u001b[0;32mpython/ray/_raylet.pyx:2554\u001b[0m, in \u001b[0;36mray._raylet.CoreWorker.get_objects\u001b[0;34m()\u001b[0m\n",
      "File \u001b[0;32mpython/ray/_raylet.pyx:444\u001b[0m, in \u001b[0;36mray._raylet.check_status\u001b[0;34m()\u001b[0m\n",
      "\u001b[0;31mKeyboardInterrupt\u001b[0m: "
     ]
    }
   ],
   "source": [
    "spk.gauss2d_fit(spk.fg_array,ncpus=6)"
   ]
  }
 ],
 "metadata": {
  "kernelspec": {
   "display_name": "stenv",
   "language": "python",
   "name": "python3"
  },
  "language_info": {
   "codemirror_mode": {
    "name": "ipython",
    "version": 3
   },
   "file_extension": ".py",
   "mimetype": "text/x-python",
   "name": "python",
   "nbconvert_exporter": "python",
   "pygments_lexer": "ipython3",
   "version": "3.10.10"
  },
  "orig_nbformat": 4
 },
 "nbformat": 4,
 "nbformat_minor": 2
}
