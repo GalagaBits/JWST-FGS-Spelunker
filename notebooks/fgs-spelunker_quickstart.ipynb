{
 "cells": [
  {
   "cell_type": "markdown",
   "metadata": {},
   "source": [
    "# FGS Spelunker Quickstart\n",
    "\n",
    "---\n",
    "**Authors:** Derod Deal (dealderod@ufl.edu), Néstor Espinoza (nespinoza@stsci.edu) | **Last update:** July 24, 2023\n",
    "\n",
    "**Program version:** ver. 1.0.1"
   ]
  },
  {
   "cell_type": "markdown",
   "metadata": {},
   "source": [
    "The JWST telescope carries four different instruments: NIRCam, NIRSpec, MIRI and FGS/NIRISS --- the latter containing the Fine Guidance Sensor (FGS). FGS Spelunker is a package designed to conveniently analyze guidestar data. In this notebook, we cover the following main functions of this package.\n",
    "\n",
    "\n",
    "1. [Getting started](#getting-started)\n",
    "    - Installation\n",
    "    - Using `fgs_splelunker`\n",
    "2. [Downloading data](#downloading-data)\n",
    "3. Spatial fitting guide stars\n",
    "    - [Gaussian fitting](#gaussian-fitting)\n",
    "    - [Quick fitting](#quick-fitting)\n",
    "4. [Plotting parameters](#plotting-parameters)\n",
    "5. Periodograms\n",
    "    - [Creating a periodogram](#periodograms)\n",
    "6. [Mnemonics](#mnemonics)\n",
    "7. [Animations](#animations)\n",
    "8. [Getting tables](#getting-tables)"
   ]
  },
  {
   "cell_type": "markdown",
   "metadata": {},
   "source": [
    "# Getting started"
   ]
  },
  {
   "cell_type": "markdown",
   "metadata": {},
   "source": [
    "To get started with FGS Spelunker, first call `spelunker.load` into a variable while setting a given Program ID."
   ]
  },
  {
   "cell_type": "code",
   "execution_count": null,
   "metadata": {},
   "outputs": [],
   "source": [
    "import os\n",
    "import sys\n",
    "os.chdir('/Users/ddeal/JWST-Treasure-Chest/')\n",
    "sys.path.append('/Users/ddeal/JWST-FGS-Spelunker/JWST-FGS-spk-main/src/')"
   ]
  },
  {
   "cell_type": "markdown",
   "metadata": {},
   "source": [
    "```python\n",
    "import spelunker\n",
    "spk = spelunker.load(pid=1534)\n",
    "```"
   ]
  },
  {
   "cell_type": "markdown",
   "metadata": {},
   "source": [
    "Calling load without the pid parameter `spelunker.load()` will initialize `spelunker` without downloading any of the files. This is useful if you already have timeseries arrays to work with."
   ]
  },
  {
   "cell_type": "markdown",
   "metadata": {},
   "source": [
    "## Downloading data"
   ]
  },
  {
   "cell_type": "markdown",
   "metadata": {},
   "source": [
    "To load Spelunker with a given Program ID for JWST, simply call `spelunker.load` with the Program ID `pid` as a parameter. This will create a directory called `spelunker_results`, which is where the FITS files from a selected Program ID and other data will be downloaded and saved. You can define your own directory by using `dir=`."
   ]
  },
  {
   "cell_type": "markdown",
   "metadata": {},
   "source": [
    "> The Program IDs that can be loaded are limited to programs without an exclusive access period or are available publicly (https://jwst-docs.stsci.edu/accessing-jwst-data/jwst-data-retrieval/data-access-policy#DataAccessPolicy-Exclusiveaccessperiod). "
   ]
  },
  {
   "cell_type": "code",
   "execution_count": null,
   "metadata": {},
   "outputs": [],
   "source": [
    "import spelunker\n",
    "spk = spelunker.load(dir='/Users/ddeal/JWST-Treasure-Chest/', pid='1534')"
   ]
  },
  {
   "cell_type": "markdown",
   "metadata": {},
   "source": [
    "To download the data after initialization, use `spk.download()` with given proposal id with the optional parameters observation number `obs_num` and visit number `visit`. You can also set the calibration level `calib_level`. This information are required to use `astroquery.mast` to search and download the necessary files. The download function will download the selected files in the given directory and create a 2D array of the guidestar data as well as an array of time and a flux timeseries. The same parameters work with `spelunker.load`."
   ]
  },
  {
   "cell_type": "code",
   "execution_count": null,
   "metadata": {},
   "outputs": [],
   "source": [
    "spk2 = spelunker.load(pid=1534, obs_num='2', visit='1', calib_level=2)\n",
    "spk2.download(1534, obs_num='2', visit='2', calib_level=2) # This overwrites the object data in spk2 with data from the input parameters"
   ]
  },
  {
   "cell_type": "markdown",
   "metadata": {},
   "source": [
    "After we downloaded our data, we can access preprocessed spatial, time, and flux arrays for all FITS files images under the specified Program ID. Use the attributes `spk.fg_array`, `spk.fg_time`, and `spk.fg_flux` to access the arrays."
   ]
  },
  {
   "cell_type": "code",
   "execution_count": null,
   "metadata": {},
   "outputs": [],
   "source": [
    "spk2.fg_array.shape, spk2.fg_time.shape, spk2.fg_flux.shape"
   ]
  },
  {
   "cell_type": "markdown",
   "metadata": {},
   "source": [
    "Previously downloaded FITS files in a given directory will not be re-downloaded. If there are multiple files downloaded for the given parameter, `spk.download` will automatically stitch the data from the files into an array based on the date and time for each file, along with the time and flux arrays. "
   ]
  },
  {
   "cell_type": "markdown",
   "metadata": {},
   "source": [
    "FGS Spelunker can also handle single fits files already stored locally by using:"
   ]
  },
  {
   "cell_type": "markdown",
   "metadata": {},
   "source": [
    "```python\n",
    "spk2.readfile('/Users/ddeal/Spelunker-older/JWST-Treasure-Chest-2023/mastDownload/JWST/jw01534001001_03101_00001_guider1/jw01534001001_gs-fg_2022340000825_cal.fits')\n",
    "```"
   ]
  },
  {
   "cell_type": "markdown",
   "metadata": {},
   "source": [
    "> Currently, `spk.readfile()` does not support the folling attributes: \n",
    "> - `fg_table`, \n",
    "> - `object_properties`."
   ]
  },
  {
   "cell_type": "markdown",
   "metadata": {},
   "source": [
    "## Spatial fitting guide stars"
   ]
  },
  {
   "cell_type": "markdown",
   "metadata": {},
   "source": [
    "After downloading the data, we can perform spatial fitting gaussians to each frame in a guidestar timeseries. This uses parallel processing through `ray` to speed up the process. We can also perform quick fits to speed through a given timeseries, though this method is a lot less accurate in the fitting."
   ]
  },
  {
   "cell_type": "markdown",
   "metadata": {},
   "source": [
    "### Gaussian fitting"
   ]
  },
  {
   "cell_type": "markdown",
   "metadata": {},
   "source": [
    "The downloaded data comes as a spatial timeseries of a selected guidestar. To measure the centriods and PSF width of each frame, we need to apply fitting. We will use Gaussian spatial fitting to measure x and y pixel coordinates, x and y standard deviations, thetha, and the offset. We will use the following derivation for fitting the guidestar frames: "
   ]
  },
  {
   "cell_type": "markdown",
   "metadata": {},
   "source": [
    "$$\\large f(x,y) = A \\exp \\left(-\\left(a(x-x_0)^2 + 2b(x-x_0)(y-y_0) + c(y-y_0)^2\\right)\\right) + \\text{offset,}$$"
   ]
  },
  {
   "cell_type": "markdown",
   "metadata": {},
   "source": [
    "where $\\large a = \\frac{\\cos^2 \\theta}{2 \\sigma^2_X} + \\frac{\\sin^2 \\theta}{2\\sigma^2_Y} $, $ \\large b = \\frac{\\sin 2\\theta}{4 \\sigma^2_X} + \\frac{\\sin 2\\theta}{4\\sigma^2_Y}$, and $ \\large  c = \\frac{\\sin^2 \\theta}{2 \\sigma^2_X} + \\frac{\\cos^2 \\theta}{2\\sigma^2_Y}$ (https://en.wikipedia.org/wiki/Gaussian_function). To perform spatial gaussian fitting, use `gauss2d_fit` with guidestar arrays (the timeseries needs to be in an 8 by 8 array, which should be the same for all guidestar fine guidence products)."
   ]
  },
  {
   "cell_type": "markdown",
   "metadata": {},
   "source": [
    "```python\n",
    "spk.gauss2d_fit() # ncpus sets the number of cpu cores your computer has. Defaults to 4 cores.\n",
    "```"
   ]
  },
  {
   "cell_type": "code",
   "execution_count": null,
   "metadata": {},
   "outputs": [],
   "source": [
    "# We are going to limit the amount of frames that we input into gauss2d_fit and other methods\n",
    "# since the gauss2d_fit can take a few houts for very large arrays.\n",
    "spk.fg_array = spk.fg_array[0:10000]\n",
    "spk.fg_flux = spk.fg_flux[0:10000]\n",
    "spk.fg_time = spk.fg_time[0:10000]"
   ]
  },
  {
   "cell_type": "code",
   "execution_count": null,
   "metadata": {},
   "outputs": [],
   "source": [
    "table_gauss_fit = spk.gauss2d_fit(ncpus=6) "
   ]
  },
  {
   "cell_type": "markdown",
   "metadata": {},
   "source": [
    "The `gauss2d_fit` function outputs an astropy table, which can bee accessed with the `spk.gaussfit_results` attribute. If `gauss2d_fit` fails to fit a frame, it will return `nan` for that frame."
   ]
  },
  {
   "cell_type": "code",
   "execution_count": null,
   "metadata": {},
   "outputs": [],
   "source": [
    "spk.gaussfit_results"
   ]
  },
  {
   "cell_type": "markdown",
   "metadata": {},
   "source": [
    "### Quick fitting"
   ]
  },
  {
   "cell_type": "markdown",
   "metadata": {},
   "source": [
    "There are some situations where you need to quickly obtain rough statistics of changes in guidestar products overtime. Quick fitting fits the x and y pixel locations and standard deviations as an astropy table using centroid and variance calculations. To perform quick fitting, run `quick_fit` with an appropriate array."
   ]
  },
  {
   "cell_type": "code",
   "execution_count": null,
   "metadata": {},
   "outputs": [],
   "source": [
    "table_quick_fit = spk.quick_fit()"
   ]
  },
  {
   "cell_type": "code",
   "execution_count": null,
   "metadata": {},
   "outputs": [],
   "source": [
    "spk.quickfit_results"
   ]
  },
  {
   "cell_type": "markdown",
   "metadata": {},
   "source": [
    "## Plotting parameters\n",
    "\n",
    "We can plot a timeseries of a given parameter or flux from guidestars. The method `timeseries_binned_plot` will generate a matplotlib axes object of a given timeseries."
   ]
  },
  {
   "cell_type": "code",
   "execution_count": null,
   "metadata": {},
   "outputs": [],
   "source": [
    "import matplotlib.pyplot as plt\n",
    "fig, ax = plt.subplots(figsize = (12,4), dpi=200)\n",
    "\n",
    "ax = spk.timeseries_binned_plot()"
   ]
  },
  {
   "cell_type": "markdown",
   "metadata": {},
   "source": [
    "Within guidestar data, changes in the PSF can impact the observed flux of the star. Certain events might see changes in all fitted parameters. In this case, subplots of each parameter will provide more information to the user about the event, giving them the change of guidestar position, brightness, and FWHM overtime. "
   ]
  },
  {
   "cell_type": "code",
   "execution_count": null,
   "metadata": {},
   "outputs": [],
   "source": [
    "ax = spk.timeseries_list_plot()"
   ]
  },
  {
   "cell_type": "markdown",
   "metadata": {},
   "source": [
    "## Periodograms"
   ]
  },
  {
   "cell_type": "markdown",
   "metadata": {},
   "source": [
    "FGS Spelunker comes with various tools to visualize and explore guidestar data. Periodograms are useful for guidestar products to detect periodicities not only within flux timeseries, but also within centroids, FWHM, theta, and offset. From a selected fitting method, we can use the table output to apply Lomb-Scargle periodograms to our parameters."
   ]
  },
  {
   "cell_type": "markdown",
   "metadata": {},
   "source": [
    "### `periodogram`\n",
    "\n",
    "To obtain the power and frequencies of Lomb-Scargle periodograms for each fitted parameter, use `periodogram`. The periodograms for each given parameter from a fit can be conveniently plotted in a single figure with the same method."
   ]
  },
  {
   "cell_type": "code",
   "execution_count": null,
   "metadata": {},
   "outputs": [],
   "source": [
    "ax = spk.periodogram()"
   ]
  },
  {
   "cell_type": "markdown",
   "metadata": {},
   "source": [
    "To get the frequency and power for each fitted parameter, use `spk.pgram_{parameter}`.\n",
    "> Available parameters:\n",
    "> - `spk.pgram_amplitude`\n",
    "> - `spk.pgram_x_mean`\n",
    "> - `spk.pgram_y_mean`\n",
    "> - `spk.pgram_x_stddev`\n",
    "> - `spk.pgram_y_stddev`\n",
    "> - `spk.pgram_theta`\n",
    "> - `spk.pgram_offset`"
   ]
  },
  {
   "cell_type": "code",
   "execution_count": null,
   "metadata": {},
   "outputs": [],
   "source": [
    "freq = spk.pgram_x_mean[0] # periodogram frequency\n",
    "power = spk.pgram_x_mean[1] # periodogram power\n",
    "\n",
    "freq[0], power[0]"
   ]
  },
  {
   "cell_type": "markdown",
   "metadata": {},
   "source": [
    "## Mnemonics"
   ]
  },
  {
   "cell_type": "markdown",
   "metadata": {},
   "source": [
    "When observing the timeseries of the guidestar, there might be technical events from the JWST that causes changes in obtained data. For example, high gain antenna or filter changes in NIRCAM can cause noticeable changes in flux or other guidestar properties. We can overlay these events onto fitted parameters using `mnemonics` and `mnemonics_plot`. You will need a MAST API token to use `mnemonics`, as well as the `jwstuser` package.\n",
    "- https://auth.mast.stsci.edu/docs/ (MAST API TOKEN)\n",
    "- https://github.com/spacetelescope/jwstuser/tree/main (jwstuser)\n",
    "\n",
    "\n",
    "> Current supported mnemonics: *SA_ZHGAUPST* (high-gain antenna), *INIS_FWMTRCURR* (NIRISS Filter Wheel Motor Current).\n"
   ]
  },
  {
   "cell_type": "code",
   "execution_count": null,
   "metadata": {},
   "outputs": [],
   "source": [
    "spk2 = spelunker.load('/Users/ddeal/JWST-Treasure-Chest/', pid=1534)"
   ]
  },
  {
   "cell_type": "code",
   "execution_count": null,
   "metadata": {},
   "outputs": [],
   "source": [
    "spk2.mast_api_token = 'enter_mast_token_id_here' # input mast_api token here!\n",
    "\n",
    "fig, ax = plt.subplots(figsize=(12,4),dpi=200)\n",
    "\n",
    "ax = spk2.mnemonics_local('GUIDESTAR')\n",
    "ax = spk2.mnemonics('SA_ZHGAUPST', 60067.84, 60067.9)\n",
    "\n",
    "ax.plot(spk2.fg_time, spk2.fg_flux)\n",
    "plt.legend(loc=3)\n",
    "\n",
    "plt.xlim(60067.84, 60067.9)"
   ]
  },
  {
   "cell_type": "markdown",
   "metadata": {},
   "source": [
    "## Animations"
   ]
  },
  {
   "cell_type": "markdown",
   "metadata": {},
   "source": [
    "Spatial data of guidestar imaging can bring essential information about how the point spread function changes overtime. Animations of the spatial timeseries are convenient and helpful methods to analyze guidestar data. To get a side by side comparison of the evolution of a spatial timeseries and a parameter, use `flux_spatial_timelapse_animation`.\n",
    "\n",
    "> You may have to install `ffmpeg` on your computer to get `mp4` formats."
   ]
  },
  {
   "cell_type": "code",
   "execution_count": null,
   "metadata": {},
   "outputs": [],
   "source": [
    "plt.plot(spk2.fg_flux[2600:3100])"
   ]
  },
  {
   "cell_type": "code",
   "execution_count": null,
   "metadata": {},
   "outputs": [],
   "source": [
    "spk2.flux_spatial_timelapse_animation(start=2600,stop=3100,) # to save an animation with a filename, use *filename=*. Defaults to movie.gif"
   ]
  },
  {
   "cell_type": "markdown",
   "metadata": {},
   "source": [
    "## Getting tables"
   ]
  },
  {
   "cell_type": "markdown",
   "metadata": {},
   "source": [
    "After downloading a selected proposal id with `download`, we can easily output metadata about each downloaded file, including extracted data from the filename including `visit_group`, `parallel_sequence_id`, and `exposure_number`. The guide star used in each file is also included, as well as filter magnitudes and other stellar properties."
   ]
  },
  {
   "cell_type": "code",
   "execution_count": null,
   "metadata": {},
   "outputs": [],
   "source": [
    "spk.fg_table # We can simply call this attribute after using spk.download() to obtain our table!"
   ]
  },
  {
   "cell_type": "markdown",
   "metadata": {},
   "source": [
    "We can obtain a neat DataFrame of each tracked guidestar, which gives us information such as the intergation start times and galactic coordinates."
   ]
  },
  {
   "cell_type": "code",
   "execution_count": null,
   "metadata": {},
   "outputs": [],
   "source": [
    "spk.object_properties"
   ]
  }
 ],
 "metadata": {
  "kernelspec": {
   "display_name": "Python 3 (ipykernel)",
   "language": "python",
   "name": "python3"
  },
  "language_info": {
   "codemirror_mode": {
    "name": "ipython",
    "version": 3
   },
   "file_extension": ".py",
   "mimetype": "text/x-python",
   "name": "python",
   "nbconvert_exporter": "python",
   "pygments_lexer": "ipython3",
   "version": "3.11.8"
  }
 },
 "nbformat": 4,
 "nbformat_minor": 2
}
